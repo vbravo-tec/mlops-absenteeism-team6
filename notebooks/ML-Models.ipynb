{
 "cells": [
  {
   "cell_type": "code",
   "execution_count": 1,
   "id": "011433a0",
   "metadata": {},
   "outputs": [
    {
     "name": "stderr",
     "output_type": "stream",
     "text": [
      "2025/10/12 11:30:00 INFO mlflow.tracking.fluent: Experiment with name 'Absenteeism_Prediction_Experiments' does not exist. Creating a new experiment.\n"
     ]
    },
    {
     "data": {
      "text/plain": [
       "<Experiment: artifact_location='mlflow-artifacts:/383079581240596013', creation_time=1760290200678, experiment_id='383079581240596013', last_update_time=1760290200678, lifecycle_stage='active', name='Absenteeism_Prediction_Experiments', tags={}>"
      ]
     },
     "execution_count": 1,
     "metadata": {},
     "output_type": "execute_result"
    }
   ],
   "source": [
    "# Importando todos las Librerias\n",
    "import pandas as pd\n",
    "import numpy as np\n",
    "import matplotlib.pyplot as plt\n",
    "import seaborn as sns\n",
    "from sklearn.model_selection import train_test_split, cross_val_score, GridSearchCV\n",
    "from sklearn.preprocessing import StandardScaler\n",
    "from sklearn.metrics import accuracy_score, precision_score, recall_score, f1_score, roc_auc_score, confusion_matrix, classification_report\n",
    "\n",
    "# Modelos a experimentar\n",
    "from sklearn.linear_model import LogisticRegression\n",
    "from sklearn.tree import DecisionTreeClassifier\n",
    "from sklearn.ensemble import RandomForestClassifier, GradientBoostingClassifier\n",
    "from sklearn.svm import SVC\n",
    "from sklearn.neighbors import KNeighborsClassifier\n",
    "\n",
    "# Librerías para MLflow (importante para el seguimiento de experimentos)\n",
    "import mlflow\n",
    "import mlflow.sklearn\n",
    "import logging\n",
    "import yaml # Para leer params.yaml \n",
    "logging.basicConfig(level=logging.WARN)\n",
    "logger = logging.getLogger(__name__)\n",
    "\n",
    "# Configurar MLflow (opcional, si quieres un server remoto o un archivo específico)\n",
    "mlflow.set_tracking_uri(\"http://127.0.0.1:5000/\") # Si tienes un servidor MLflow local\n",
    "mlflow.set_experiment(\"Absenteeism_Prediction_Experiments\")"
   ]
  },
  {
   "cell_type": "code",
   "execution_count": 2,
   "id": "06311d92",
   "metadata": {},
   "outputs": [
    {
     "name": "stdout",
     "output_type": "stream",
     "text": [
      "✅ Dataset cargado correctamente desde: ../data/interim/absenteeism_eda_fe_intermediate.csv\n",
      "Dimensiones del dataset: (514, 79)\n",
      "\n",
      "Primeras 5 filas del dataset:\n"
     ]
    },
    {
     "data": {
      "text/html": [
       "<div>\n",
       "<style scoped>\n",
       "    .dataframe tbody tr th:only-of-type {\n",
       "        vertical-align: middle;\n",
       "    }\n",
       "\n",
       "    .dataframe tbody tr th {\n",
       "        vertical-align: top;\n",
       "    }\n",
       "\n",
       "    .dataframe thead th {\n",
       "        text-align: right;\n",
       "    }\n",
       "</style>\n",
       "<table border=\"1\" class=\"dataframe\">\n",
       "  <thead>\n",
       "    <tr style=\"text-align: right;\">\n",
       "      <th></th>\n",
       "      <th>ID</th>\n",
       "      <th>Transportation expense</th>\n",
       "      <th>Distance from Residence to Work</th>\n",
       "      <th>Service time</th>\n",
       "      <th>Age</th>\n",
       "      <th>Work load Average/day</th>\n",
       "      <th>Hit target</th>\n",
       "      <th>Disciplinary failure</th>\n",
       "      <th>Son</th>\n",
       "      <th>Social drinker</th>\n",
       "      <th>...</th>\n",
       "      <th>Education_High school</th>\n",
       "      <th>Education_Postgraduate</th>\n",
       "      <th>BMI_category_Obese</th>\n",
       "      <th>BMI_category_Overweight</th>\n",
       "      <th>Age_group_Middle-aged</th>\n",
       "      <th>Age_group_Senior</th>\n",
       "      <th>Service_group_Medium</th>\n",
       "      <th>Service_group_Long</th>\n",
       "      <th>Distance_group_Moderate</th>\n",
       "      <th>Distance_group_Far</th>\n",
       "    </tr>\n",
       "  </thead>\n",
       "  <tbody>\n",
       "    <tr>\n",
       "      <th>0</th>\n",
       "      <td>-0.589167</td>\n",
       "      <td>1.298575</td>\n",
       "      <td>0.372291</td>\n",
       "      <td>0.043166</td>\n",
       "      <td>-0.550156</td>\n",
       "      <td>-0.81621</td>\n",
       "      <td>0.664538</td>\n",
       "      <td>-0.195918</td>\n",
       "      <td>0.819848</td>\n",
       "      <td>0.969341</td>\n",
       "      <td>...</td>\n",
       "      <td>1.0</td>\n",
       "      <td>0.0</td>\n",
       "      <td>1.0</td>\n",
       "      <td>0.0</td>\n",
       "      <td>1.0</td>\n",
       "      <td>0.0</td>\n",
       "      <td>0.0</td>\n",
       "      <td>1.0</td>\n",
       "      <td>0.0</td>\n",
       "      <td>1.0</td>\n",
       "    </tr>\n",
       "    <tr>\n",
       "      <th>1</th>\n",
       "      <td>-1.307203</td>\n",
       "      <td>-0.673158</td>\n",
       "      <td>1.435389</td>\n",
       "      <td>1.502873</td>\n",
       "      <td>0.427646</td>\n",
       "      <td>-0.81621</td>\n",
       "      <td>0.664538</td>\n",
       "      <td>-0.195918</td>\n",
       "      <td>-0.865760</td>\n",
       "      <td>0.969341</td>\n",
       "      <td>...</td>\n",
       "      <td>1.0</td>\n",
       "      <td>0.0</td>\n",
       "      <td>1.0</td>\n",
       "      <td>0.0</td>\n",
       "      <td>1.0</td>\n",
       "      <td>0.0</td>\n",
       "      <td>0.0</td>\n",
       "      <td>1.0</td>\n",
       "      <td>0.0</td>\n",
       "      <td>1.0</td>\n",
       "    </tr>\n",
       "    <tr>\n",
       "      <th>2</th>\n",
       "      <td>-0.948185</td>\n",
       "      <td>1.119326</td>\n",
       "      <td>-1.824778</td>\n",
       "      <td>0.335108</td>\n",
       "      <td>0.623206</td>\n",
       "      <td>-0.81621</td>\n",
       "      <td>0.664538</td>\n",
       "      <td>-0.195918</td>\n",
       "      <td>0.819848</td>\n",
       "      <td>0.969341</td>\n",
       "      <td>...</td>\n",
       "      <td>1.0</td>\n",
       "      <td>0.0</td>\n",
       "      <td>0.0</td>\n",
       "      <td>0.0</td>\n",
       "      <td>1.0</td>\n",
       "      <td>0.0</td>\n",
       "      <td>0.0</td>\n",
       "      <td>1.0</td>\n",
       "      <td>0.0</td>\n",
       "      <td>0.0</td>\n",
       "    </tr>\n",
       "    <tr>\n",
       "      <th>3</th>\n",
       "      <td>-0.589167</td>\n",
       "      <td>1.298575</td>\n",
       "      <td>0.372291</td>\n",
       "      <td>0.043166</td>\n",
       "      <td>-0.550156</td>\n",
       "      <td>-0.81621</td>\n",
       "      <td>0.664538</td>\n",
       "      <td>-0.195918</td>\n",
       "      <td>0.819848</td>\n",
       "      <td>0.969341</td>\n",
       "      <td>...</td>\n",
       "      <td>1.0</td>\n",
       "      <td>0.0</td>\n",
       "      <td>1.0</td>\n",
       "      <td>0.0</td>\n",
       "      <td>1.0</td>\n",
       "      <td>0.0</td>\n",
       "      <td>0.0</td>\n",
       "      <td>1.0</td>\n",
       "      <td>0.0</td>\n",
       "      <td>1.0</td>\n",
       "    </tr>\n",
       "    <tr>\n",
       "      <th>4</th>\n",
       "      <td>-1.307203</td>\n",
       "      <td>-0.673158</td>\n",
       "      <td>1.435389</td>\n",
       "      <td>1.502873</td>\n",
       "      <td>0.427646</td>\n",
       "      <td>-0.81621</td>\n",
       "      <td>0.664538</td>\n",
       "      <td>-0.195918</td>\n",
       "      <td>-0.865760</td>\n",
       "      <td>0.969341</td>\n",
       "      <td>...</td>\n",
       "      <td>1.0</td>\n",
       "      <td>0.0</td>\n",
       "      <td>1.0</td>\n",
       "      <td>0.0</td>\n",
       "      <td>1.0</td>\n",
       "      <td>0.0</td>\n",
       "      <td>0.0</td>\n",
       "      <td>1.0</td>\n",
       "      <td>0.0</td>\n",
       "      <td>1.0</td>\n",
       "    </tr>\n",
       "  </tbody>\n",
       "</table>\n",
       "<p>5 rows × 79 columns</p>\n",
       "</div>"
      ],
      "text/plain": [
       "         ID  Transportation expense  Distance from Residence to Work  \\\n",
       "0 -0.589167                1.298575                         0.372291   \n",
       "1 -1.307203               -0.673158                         1.435389   \n",
       "2 -0.948185                1.119326                        -1.824778   \n",
       "3 -0.589167                1.298575                         0.372291   \n",
       "4 -1.307203               -0.673158                         1.435389   \n",
       "\n",
       "   Service time       Age  Work load Average/day  Hit target  \\\n",
       "0      0.043166 -0.550156               -0.81621    0.664538   \n",
       "1      1.502873  0.427646               -0.81621    0.664538   \n",
       "2      0.335108  0.623206               -0.81621    0.664538   \n",
       "3      0.043166 -0.550156               -0.81621    0.664538   \n",
       "4      1.502873  0.427646               -0.81621    0.664538   \n",
       "\n",
       "   Disciplinary failure       Son  Social drinker  ...  Education_High school  \\\n",
       "0             -0.195918  0.819848        0.969341  ...                    1.0   \n",
       "1             -0.195918 -0.865760        0.969341  ...                    1.0   \n",
       "2             -0.195918  0.819848        0.969341  ...                    1.0   \n",
       "3             -0.195918  0.819848        0.969341  ...                    1.0   \n",
       "4             -0.195918 -0.865760        0.969341  ...                    1.0   \n",
       "\n",
       "   Education_Postgraduate  BMI_category_Obese  BMI_category_Overweight  \\\n",
       "0                     0.0                 1.0                      0.0   \n",
       "1                     0.0                 1.0                      0.0   \n",
       "2                     0.0                 0.0                      0.0   \n",
       "3                     0.0                 1.0                      0.0   \n",
       "4                     0.0                 1.0                      0.0   \n",
       "\n",
       "   Age_group_Middle-aged  Age_group_Senior  Service_group_Medium  \\\n",
       "0                    1.0               0.0                   0.0   \n",
       "1                    1.0               0.0                   0.0   \n",
       "2                    1.0               0.0                   0.0   \n",
       "3                    1.0               0.0                   0.0   \n",
       "4                    1.0               0.0                   0.0   \n",
       "\n",
       "   Service_group_Long  Distance_group_Moderate  Distance_group_Far  \n",
       "0                 1.0                      0.0                 1.0  \n",
       "1                 1.0                      0.0                 1.0  \n",
       "2                 1.0                      0.0                 0.0  \n",
       "3                 1.0                      0.0                 1.0  \n",
       "4                 1.0                      0.0                 1.0  \n",
       "\n",
       "[5 rows x 79 columns]"
      ]
     },
     "metadata": {},
     "output_type": "display_data"
    }
   ],
   "source": [
    "# Ruta del dataset procesad\n",
    "ruta_dataset = '../data/interim/absenteeism_eda_fe_intermediate.csv'\n",
    "\n",
    "try:\n",
    "    df = pd.read_csv(ruta_dataset)\n",
    "    print(f\"✅ Dataset cargado correctamente desde: {ruta_dataset}\")\n",
    "    print(f\"Dimensiones del dataset: {df.shape}\")\n",
    "    print(\"\\nPrimeras 5 filas del dataset:\")\n",
    "    display(df.head()) # Usa display() en Jupyter para una mejor visualización\n",
    "except Exception as e:\n",
    "    logger.exception(f\"No se pudo cargar el dataset. Asegúrate de que la ruta sea correcta y el archivo exista. Error: {e}\")"
   ]
  },
  {
   "cell_type": "markdown",
   "id": "b06f36c3",
   "metadata": {},
   "source": [
    "## Preparación para las variables"
   ]
  },
  {
   "cell_type": "code",
   "execution_count": 3,
   "id": "8a2a619e",
   "metadata": {},
   "outputs": [
    {
     "name": "stdout",
     "output_type": "stream",
     "text": [
      "La mediana de las horas de ausentismo es: 3.00 horas.\n",
      "Crearemos una variable objetivo binaria usando este umbral.\n",
      "\n",
      "Distribución de la nueva variable objetivo 'Target_Binary':\n",
      "Target_Binary\n",
      "0    0.595331\n",
      "1    0.404669\n",
      "Name: proportion, dtype: float64\n",
      "\n",
      "Forma de las características (X): (514, 77)\n",
      "Forma de la variable objetivo (y): (514,)\n",
      "\n",
      "Se usarán las siguientes columnas como características (predictores):\n",
      "['Transportation expense', 'Distance from Residence to Work', 'Service time', 'Age', 'Work load Average/day', 'Hit target', 'Disciplinary failure', 'Son', 'Social drinker', 'Social smoker', 'Pet', 'Weight', 'Height', 'Body mass index', 'Lifestyle_risk_score', 'Dependents_count', 'Has_dependents', 'Has_family_or_pets', 'Healthy_lifestyle', 'Penalty_risk_score', 'Reliability_score', 'Reliability_score_norm', 'Workload_deviation', 'Reason for absence_1 Certain infectious and parasitic diseases', 'Reason for absence_10 Diseases of the respiratory system', 'Reason for absence_11 Diseases of the digestive system', 'Reason for absence_12 Diseases of the skin and subcutaneous tissue', 'Reason for absence_13 Diseases of the musculoskeletal system and connective tissue', 'Reason for absence_14 Diseases of the genitourinary system', 'Reason for absence_15 Pregnancy, childbirth and the puerperium', 'Reason for absence_16 Certain conditions originating in the perinatal period', 'Reason for absence_17 Congenital malformations, deformations and chromosomal abnormalities', 'Reason for absence_18 Symptoms, signs and abnormal clinical and laboratory findings, not elsewhere classified', 'Reason for absence_19 Injury, poisoning and certain other consequences of external causes', 'Reason for absence_21 Factors influencing health status and contact with health services', 'Reason for absence_22 Patient follow-up (CID)', 'Reason for absence_23 Medical consultation', 'Reason for absence_24 Blood donation', 'Reason for absence_25 Laboratory examination', 'Reason for absence_26 Unjustified absence', 'Reason for absence_27 Physiotherapy', 'Reason for absence_28 Dental consultation', 'Reason for absence_3 Diseases of the blood and blood-forming organs and certain disorders involving the immune mechanism', 'Reason for absence_4 Endocrine, nutritional and metabolic diseases', 'Reason for absence_5 Mental and behavioural disorders', 'Reason for absence_6 Diseases of the nervous system', 'Reason for absence_7 Diseases of the eye and adnexa', 'Reason for absence_8 Diseases of the ear and mastoid process', 'Reason for absence_9 Diseases of the circulatory system', 'Month of absence_August', 'Month of absence_December', 'Month of absence_February', 'Month of absence_January', 'Month of absence_July', 'Month of absence_June', 'Month of absence_March', 'Month of absence_May', 'Month of absence_November', 'Month of absence_October', 'Month of absence_September', 'Day of the week_Monday', 'Day of the week_Thursday', 'Day of the week_Tuesday', 'Day of the week_Wednesday', 'Seasons_Spring', 'Seasons_Summer', 'Seasons_Winter', 'Education_High school', 'Education_Postgraduate', 'BMI_category_Obese', 'BMI_category_Overweight', 'Age_group_Middle-aged', 'Age_group_Senior', 'Service_group_Medium', 'Service_group_Long', 'Distance_group_Moderate', 'Distance_group_Far']\n",
      "\n",
      "Forma de los conjuntos de datos divididos:\n",
      "X_train: (411, 77), y_train: (411,)\n",
      "X_test: (103, 77), y_test: (103,)\n",
      "\n",
      "✅ Preprocesamiento y división de datos completados. Los datos están listos para el entrenamiento.\n"
     ]
    }
   ],
   "source": [
    "# --- Definir la Variable Objetivo (Target) ---\n",
    "# La columna 'Absenteeism time in hours' es nuestro punto de partida.\n",
    "# Vamos a crear un problema de clasificación binaria para predecir si una ausencia será larga o corta.\n",
    "# Usaremos la mediana como umbral para hacer esta división.\n",
    "\n",
    "# Calcular la mediana de las horas de ausentismo\n",
    "try:\n",
    "    median_hours = df['Absenteeism time in hours'].median()\n",
    "    print(f\"La mediana de las horas de ausentismo es: {median_hours:.2f} horas.\")\n",
    "    print(\"Crearemos una variable objetivo binaria usando este umbral.\")\n",
    "\n",
    "    # Crear la variable objetivo: 1 si es mayor que la mediana, 0 en caso contrario.\n",
    "    df['Target_Binary'] = (df['Absenteeism time in hours'] > median_hours).astype(int)\n",
    "    print(\"\\nDistribución de la nueva variable objetivo 'Target_Binary':\")\n",
    "    print(df['Target_Binary'].value_counts(normalize=True))\n",
    "\n",
    "except KeyError:\n",
    "    print(\"Error: Asegúrate de que la columna 'Absenteeism time in hours' exista en tu DataFrame.\")\n",
    "    # Detener la ejecución si la columna no existe.\n",
    "    # Y luego re-intentar las operaciones.\n",
    "\n",
    "\n",
    "# --- Definir Características (X) y Variable Objetivo (y) ---\n",
    "# Ahora separamos el DataFrame en nuestras variables predictoras (X) y la variable que queremos predecir (y).\n",
    "\n",
    "# 'y' es la columna binaria que acabamos de crear.\n",
    "y = df['Target_Binary']\n",
    "\n",
    "# 'X' son todas las demás columnas, EXCEPTO:\n",
    "#  - 'ID': Es un identificador, no un predictor.\n",
    "#  - 'Absenteeism time in hours': La usamos para crear el target, incluirla sería hacer trampa (data leakage).\n",
    "#  - 'Target_Binary': Es nuestra variable objetivo.\n",
    "X = df.drop(columns=['ID', 'Absenteeism time in hours', 'Target_Binary'])\n",
    "\n",
    "print(\"\\nForma de las características (X):\", X.shape)\n",
    "print(\"Forma de la variable objetivo (y):\", y.shape)\n",
    "print(\"\\nSe usarán las siguientes columnas como características (predictores):\")\n",
    "print(X.columns.tolist())\n",
    "\n",
    "\n",
    "# ---División en Conjuntos de Entrenamiento y Prueba ---\n",
    "# Dividimos los datos para poder entrenar el modelo con una parte y evaluarlo con datos que nunca ha visto.\n",
    "# - test_size=0.2: Usamos el 20% de los datos para la prueba.\n",
    "# - random_state=42: Asegura que la división sea siempre la misma para que los resultados sean reproducibles.\n",
    "# - stratify=y: ¡Muy importante! Asegura que la proporción de ausencias largas y cortas sea la misma en\n",
    "#   el conjunto de entrenamiento y en el de prueba.\n",
    "X_train, X_test, y_train, y_test = train_test_split(X, y, test_size=0.2, random_state=42, stratify=y)\n",
    "\n",
    "print(\"\\nForma de los conjuntos de datos divididos:\")\n",
    "print(f\"X_train: {X_train.shape}, y_train: {y_train.shape}\")\n",
    "print(f\"X_test: {X_test.shape}, y_test: {y_test.shape}\")\n",
    "\n",
    "\n",
    "# ---Escalado de Características ---\n",
    "# Muchos modelos funcionan mejor cuando las características numéricas tienen una escala similar.\n",
    "# StandardScaler las transforma para que tengan una media de 0 y una desviación estándar de 1.\n",
    "# OJO: El escalador se 'ajusta' (fit) SOLO con los datos de entrenamiento para evitar fuga de información.\n",
    "scaler = StandardScaler()\n",
    "X_train_scaled = scaler.fit_transform(X_train)\n",
    "X_test_scaled = scaler.transform(X_test)\n",
    "\n",
    "print(\"\\n✅ Preprocesamiento y división de datos completados. Los datos están listos para el entrenamiento.\")"
   ]
  },
  {
   "cell_type": "code",
   "execution_count": 4,
   "id": "5339d37c",
   "metadata": {},
   "outputs": [
    {
     "name": "stdout",
     "output_type": "stream",
     "text": [
      "Iniciando experimentación de modelos...\n",
      "\n",
      "--- Entrenando y evaluando: Logistic Regression ---\n"
     ]
    },
    {
     "name": "stderr",
     "output_type": "stream",
     "text": [
      "2025/10/12 12:00:43 WARNING mlflow.models.model: `artifact_path` is deprecated. Please use `name` instead.\n",
      "2025/10/12 12:01:05 WARNING mlflow.models.model: Model logged without a signature and input example. Please set `input_example` parameter when logging the model to auto infer the model signature.\n"
     ]
    },
    {
     "name": "stdout",
     "output_type": "stream",
     "text": [
      "  Accuracy: 0.9417\n",
      "  F1-Score: 0.9250\n",
      "  ROC AUC: 0.9902\n",
      "🏃 View run Logistic Regression at: http://127.0.0.1:5000/#/experiments/383079581240596013/runs/50947a200b5e4680a2f58ff9e7b9bf17\n",
      "🧪 View experiment at: http://127.0.0.1:5000/#/experiments/383079581240596013\n",
      "\n",
      "--- Entrenando y evaluando: Decision Tree ---\n"
     ]
    },
    {
     "name": "stderr",
     "output_type": "stream",
     "text": [
      "2025/10/12 12:01:06 WARNING mlflow.models.model: `artifact_path` is deprecated. Please use `name` instead.\n",
      "2025/10/12 12:01:15 WARNING mlflow.models.model: Model logged without a signature and input example. Please set `input_example` parameter when logging the model to auto infer the model signature.\n"
     ]
    },
    {
     "name": "stdout",
     "output_type": "stream",
     "text": [
      "  Accuracy: 1.0000\n",
      "  F1-Score: 1.0000\n",
      "  ROC AUC: 1.0000\n",
      "🏃 View run Decision Tree at: http://127.0.0.1:5000/#/experiments/383079581240596013/runs/1eb2d1b3fce64c92b93343662907654b\n",
      "🧪 View experiment at: http://127.0.0.1:5000/#/experiments/383079581240596013\n",
      "\n",
      "--- Entrenando y evaluando: Random Forest ---\n"
     ]
    },
    {
     "name": "stderr",
     "output_type": "stream",
     "text": [
      "2025/10/12 12:01:16 WARNING mlflow.models.model: `artifact_path` is deprecated. Please use `name` instead.\n",
      "2025/10/12 12:01:25 WARNING mlflow.models.model: Model logged without a signature and input example. Please set `input_example` parameter when logging the model to auto infer the model signature.\n"
     ]
    },
    {
     "name": "stdout",
     "output_type": "stream",
     "text": [
      "  Accuracy: 1.0000\n",
      "  F1-Score: 1.0000\n",
      "  ROC AUC: 1.0000\n",
      "🏃 View run Random Forest at: http://127.0.0.1:5000/#/experiments/383079581240596013/runs/7f1496c99e9242b18b1dfb7254d84b8e\n",
      "🧪 View experiment at: http://127.0.0.1:5000/#/experiments/383079581240596013\n",
      "\n",
      "--- Entrenando y evaluando: Gradient Boosting ---\n"
     ]
    },
    {
     "name": "stderr",
     "output_type": "stream",
     "text": [
      "2025/10/12 12:01:26 WARNING mlflow.models.model: `artifact_path` is deprecated. Please use `name` instead.\n",
      "2025/10/12 12:01:36 WARNING mlflow.models.model: Model logged without a signature and input example. Please set `input_example` parameter when logging the model to auto infer the model signature.\n"
     ]
    },
    {
     "name": "stdout",
     "output_type": "stream",
     "text": [
      "  Accuracy: 1.0000\n",
      "  F1-Score: 1.0000\n",
      "  ROC AUC: 1.0000\n",
      "🏃 View run Gradient Boosting at: http://127.0.0.1:5000/#/experiments/383079581240596013/runs/74e256fe650d43c5b07993e3d968b563\n",
      "🧪 View experiment at: http://127.0.0.1:5000/#/experiments/383079581240596013\n",
      "\n",
      "✅ Experimentación de modelos finalizada.\n"
     ]
    }
   ],
   "source": [
    "# Configurar el experimento de MLflow\n",
    "mlflow.set_experiment(\"Absenteeism_Prediction_Experiments\")\n",
    "\n",
    "# Diccionario de modelos que vamos a probar\n",
    "models = {\n",
    "    'Logistic Regression': LogisticRegression(random_state=42, max_iter=1000),\n",
    "    'Decision Tree': DecisionTreeClassifier(random_state=42),\n",
    "    'Random Forest': RandomForestClassifier(random_state=42),\n",
    "    'Gradient Boosting': GradientBoostingClassifier(random_state=42)\n",
    "}\n",
    "\n",
    "print(\"Iniciando experimentación de modelos...\")\n",
    "\n",
    "for name, model in models.items():\n",
    "    # Iniciar una nueva ejecución en MLflow para cada modelo\n",
    "    with mlflow.start_run(run_name=name):\n",
    "        print(f\"\\n--- Entrenando y evaluando: {name} ---\")\n",
    "\n",
    "        # 1. Registrar el nombre del modelo como un parámetro\n",
    "        mlflow.log_param(\"model_name\", name)\n",
    "\n",
    "        # 2. Entrenar el modelo con los datos escalados\n",
    "        model.fit(X_train_scaled, y_train)\n",
    "\n",
    "        # 3. Realizar predicciones sobre el conjunto de prueba\n",
    "        y_pred = model.predict(X_test_scaled)\n",
    "        y_proba = model.predict_proba(X_test_scaled)[:, 1] # Probabilidades para ROC AUC\n",
    "\n",
    "        # 4. Calcular las métricas de evaluación\n",
    "        accuracy = accuracy_score(y_test, y_pred)\n",
    "        precision = precision_score(y_test, y_pred)\n",
    "        recall = recall_score(y_test, y_pred)\n",
    "        f1 = f1_score(y_test, y_pred)\n",
    "        roc_auc = roc_auc_score(y_test, y_proba)\n",
    "\n",
    "        # 5. Registrar las métricas en MLflow para poder compararlas después\n",
    "        mlflow.log_metric(\"accuracy\", accuracy)\n",
    "        mlflow.log_metric(\"precision\", precision)\n",
    "        mlflow.log_metric(\"recall\", recall)\n",
    "        mlflow.log_metric(\"f1_score\", f1)\n",
    "        mlflow.log_metric(\"roc_auc\", roc_auc)\n",
    "        \n",
    "        # 6. Registrar los hiperparámetros del modelo\n",
    "        mlflow.log_params(model.get_params())\n",
    "\n",
    "        # 7. Registrar el modelo entrenado como un \"artefacto\" en MLflow\n",
    "        mlflow.sklearn.log_model(model, f\"model_{name.replace(' ', '_')}\")\n",
    "\n",
    "        print(f\"  Accuracy: {accuracy:.4f}\")\n",
    "        print(f\"  F1-Score: {f1:.4f}\")\n",
    "        print(f\"  ROC AUC: {roc_auc:.4f}\")\n",
    "\n",
    "print(\"\\n✅ Experimentación de modelos finalizada.\")"
   ]
  },
  {
   "cell_type": "markdown",
   "id": "d1a05207",
   "metadata": {},
   "source": [
    "Los modelos basados en árboles (Decision Tree, Random Forest) son extremadamente buenos para encontrar \"atajos\" en los datos. \n",
    "\n",
    "Si hay una columna en tus datos que es básicamente la respuesta, el árbol la encontrará y creará una regla simple como: SI columna_tramposa > 0.5 ENTONCES la respuesta es 1. \n",
    "\n",
    "Por eso obtienen un 100% de precisión. La Regresión Logística, al ser un modelo más simple, es menos susceptible a estos atajos, por eso su resultado es más realista."
   ]
  },
  {
   "cell_type": "code",
   "execution_count": 5,
   "id": "b1f8db6a",
   "metadata": {},
   "outputs": [
    {
     "name": "stdout",
     "output_type": "stream",
     "text": [
      "Calculando correlaciones con la variable objetivo...\n",
      "\n",
      "Top 10 correlaciones más altas con 'Target_Binary':\n",
      "Target_Binary                                    1.000000\n",
      "Absenteeism time in hours                        0.818868\n",
      "Reason for absence_26 Unjustified absence        0.296590\n",
      "Son                                              0.285075\n",
      "Lifestyle_risk_score                             0.238655\n",
      "Service_group_Long                               0.235744\n",
      "Age_group_Middle-aged                            0.232805\n",
      "Transportation expense                           0.223499\n",
      "Reason for absence_22 Patient follow-up (CID)    0.210285\n",
      "Distance_group_Moderate                          0.202714\n",
      "Name: Target_Binary, dtype: float64\n",
      "\n",
      "Top 10 correlaciones más bajas (más negativas) con 'Target_Binary':\n",
      "Month of absence_January                     -0.130176\n",
      "ID                                           -0.134605\n",
      "Month of absence_February                    -0.135235\n",
      "Penalty_risk_score                           -0.143857\n",
      "Disciplinary failure                         -0.161527\n",
      "Reason for absence_23 Medical consultation   -0.186153\n",
      "Service_group_Medium                         -0.235744\n",
      "Reason for absence_27 Physiotherapy          -0.324650\n",
      "Reliability_score                            -0.655519\n",
      "Reliability_score_norm                       -0.655519\n",
      "Name: Target_Binary, dtype: float64\n",
      "\n",
      "✅ No se detectó una fuga de datos obvia por correlación. El overfitting podría deberse a la complejidad del modelo.\n"
     ]
    }
   ],
   "source": [
    "# --- Paso de Diagnóstico: Investigar Correlaciones ---\n",
    "# Vamos a calcular la correlación de todas las columnas con nuestra variable objetivo.\n",
    "# Una correlación muy cercana a 1 o -1 es una señal de fuga de datos.\n",
    "\n",
    "print(\"Calculando correlaciones con la variable objetivo...\")\n",
    "correlations = df.corr()['Target_Binary'].sort_values(ascending=False)\n",
    "\n",
    "print(\"\\nTop 10 correlaciones más altas con 'Target_Binary':\")\n",
    "print(correlations.head(10))\n",
    "\n",
    "print(\"\\nTop 10 correlaciones más bajas (más negativas) con 'Target_Binary':\")\n",
    "print(correlations.tail(10))\n",
    "\n",
    "# Identificar columnas con correlación perfecta (¡las culpables!)\n",
    "leaky_features = correlations[abs(correlations) > 0.99].index.tolist()\n",
    "\n",
    "# El Target_Binary siempre tendrá una correlación de 1.0 consigo mismo, así que lo removemos de la lista.\n",
    "if 'Target_Binary' in leaky_features:\n",
    "    leaky_features.remove('Target_Binary')\n",
    "\n",
    "if leaky_features:\n",
    "    print(f\"\\n🚨 ¡Fuga de datos detectada! La(s) siguiente(s) característica(s) son probablemente la causa: {leaky_features}\")\n",
    "else:\n",
    "    print(\"\\n✅ No se detectó una fuga de datos obvia por correlación. El overfitting podría deberse a la complejidad del modelo.\")"
   ]
  },
  {
   "cell_type": "markdown",
   "id": "5663d263",
   "metadata": {},
   "source": [
    "Para validar creamos un diagnostico de correlacines para ver si hay data leakage pero vemos que hay en esos modelos overfitting por la naturaleza del modelo\n",
    "\n",
    "Ahora regularemos los modelos"
   ]
  },
  {
   "cell_type": "code",
   "execution_count": 6,
   "id": "022edf49",
   "metadata": {},
   "outputs": [
    {
     "name": "stderr",
     "output_type": "stream",
     "text": [
      "2025/10/12 12:14:41 INFO mlflow.tracking.fluent: Experiment with name 'Absenteeism_Prediction_Experiments_Regularized' does not exist. Creating a new experiment.\n"
     ]
    },
    {
     "name": "stdout",
     "output_type": "stream",
     "text": [
      "Iniciando experimentación con modelos regularizados...\n",
      "\n",
      "--- Entrenando y evaluando: Logistic Regression ---\n"
     ]
    },
    {
     "name": "stderr",
     "output_type": "stream",
     "text": [
      "2025/10/12 12:14:42 WARNING mlflow.models.model: `artifact_path` is deprecated. Please use `name` instead.\n",
      "2025/10/12 12:14:51 WARNING mlflow.models.model: Model logged without a signature and input example. Please set `input_example` parameter when logging the model to auto infer the model signature.\n"
     ]
    },
    {
     "name": "stdout",
     "output_type": "stream",
     "text": [
      "  Accuracy: 0.9417\n",
      "  F1-Score: 0.9250\n",
      "  ROC AUC: 0.9902\n",
      "🏃 View run Logistic Regression at: http://127.0.0.1:5000/#/experiments/541240116825496883/runs/09e685330e56412b97a07d02bae6621a\n",
      "🧪 View experiment at: http://127.0.0.1:5000/#/experiments/541240116825496883\n",
      "\n",
      "--- Entrenando y evaluando: Decision Tree (Regularized) ---\n"
     ]
    },
    {
     "name": "stderr",
     "output_type": "stream",
     "text": [
      "2025/10/12 12:14:52 WARNING mlflow.models.model: `artifact_path` is deprecated. Please use `name` instead.\n",
      "2025/10/12 12:15:01 WARNING mlflow.models.model: Model logged without a signature and input example. Please set `input_example` parameter when logging the model to auto infer the model signature.\n"
     ]
    },
    {
     "name": "stdout",
     "output_type": "stream",
     "text": [
      "  Accuracy: 1.0000\n",
      "  F1-Score: 1.0000\n",
      "  ROC AUC: 1.0000\n",
      "🏃 View run Decision Tree (Regularized) at: http://127.0.0.1:5000/#/experiments/541240116825496883/runs/de18a03c069c49b78cfa63b55ec3afee\n",
      "🧪 View experiment at: http://127.0.0.1:5000/#/experiments/541240116825496883\n",
      "\n",
      "--- Entrenando y evaluando: Random Forest (Regularized) ---\n"
     ]
    },
    {
     "name": "stderr",
     "output_type": "stream",
     "text": [
      "2025/10/12 12:15:02 WARNING mlflow.models.model: `artifact_path` is deprecated. Please use `name` instead.\n",
      "2025/10/12 12:15:11 WARNING mlflow.models.model: Model logged without a signature and input example. Please set `input_example` parameter when logging the model to auto infer the model signature.\n"
     ]
    },
    {
     "name": "stdout",
     "output_type": "stream",
     "text": [
      "  Accuracy: 1.0000\n",
      "  F1-Score: 1.0000\n",
      "  ROC AUC: 1.0000\n",
      "🏃 View run Random Forest (Regularized) at: http://127.0.0.1:5000/#/experiments/541240116825496883/runs/13f5798431dd4649a47800e1713533a7\n",
      "🧪 View experiment at: http://127.0.0.1:5000/#/experiments/541240116825496883\n",
      "\n",
      "--- Entrenando y evaluando: Gradient Boosting (Regularized) ---\n"
     ]
    },
    {
     "name": "stderr",
     "output_type": "stream",
     "text": [
      "2025/10/12 12:15:12 WARNING mlflow.models.model: `artifact_path` is deprecated. Please use `name` instead.\n",
      "2025/10/12 12:15:21 WARNING mlflow.models.model: Model logged without a signature and input example. Please set `input_example` parameter when logging the model to auto infer the model signature.\n"
     ]
    },
    {
     "name": "stdout",
     "output_type": "stream",
     "text": [
      "  Accuracy: 1.0000\n",
      "  F1-Score: 1.0000\n",
      "  ROC AUC: 1.0000\n",
      "🏃 View run Gradient Boosting (Regularized) at: http://127.0.0.1:5000/#/experiments/541240116825496883/runs/d72e6e3927184d02b141bfb15d405434\n",
      "🧪 View experiment at: http://127.0.0.1:5000/#/experiments/541240116825496883\n",
      "\n",
      "✅ Experimentación finalizada.\n"
     ]
    }
   ],
   "source": [
    "# Configurar el experimento de MLflow\n",
    "mlflow.set_experiment(\"Absenteeism_Prediction_Experiments_Regularized\") # Nuevo nombre de experimento\n",
    "\n",
    "# Diccionario de modelos con versiones regularizadas para combatir el overfitting\n",
    "models = {\n",
    "    'Logistic Regression': LogisticRegression(random_state=42, max_iter=1000),\n",
    "    'Decision Tree (Regularized)': DecisionTreeClassifier(\n",
    "        random_state=42,\n",
    "        max_depth=5,            # Límite de profundidad\n",
    "        min_samples_leaf=10     # Mínimo de muestras por hoja\n",
    "    ),\n",
    "    'Random Forest (Regularized)': RandomForestClassifier(\n",
    "        random_state=42,\n",
    "        max_depth=8,            # Límite de profundidad para cada árbol\n",
    "        min_samples_leaf=5,     # Mínimo de muestras por hoja\n",
    "        n_estimators=150        # Número de árboles\n",
    "    ),\n",
    "    'Gradient Boosting (Regularized)': GradientBoostingClassifier(\n",
    "        random_state=42,\n",
    "        max_depth=4,            # Límite de profundidad para cada árbol\n",
    "        n_estimators=100\n",
    "    )\n",
    "}\n",
    "\n",
    "print(\"Iniciando experimentación con modelos regularizados...\")\n",
    "\n",
    "for name, model in models.items():\n",
    "    with mlflow.start_run(run_name=name):\n",
    "        print(f\"\\n--- Entrenando y evaluando: {name} ---\")\n",
    "\n",
    "        mlflow.log_param(\"model_name\", name)\n",
    "        model.fit(X_train_scaled, y_train)\n",
    "        y_pred = model.predict(X_test_scaled)\n",
    "        y_proba = model.predict_proba(X_test_scaled)[:, 1]\n",
    "\n",
    "        # Calcular y registrar métricas\n",
    "        metrics = {\n",
    "            \"accuracy\": accuracy_score(y_test, y_pred),\n",
    "            \"precision\": precision_score(y_test, y_pred),\n",
    "            \"recall\": recall_score(y_test, y_pred),\n",
    "            \"f1_score\": f1_score(y_test, y_pred),\n",
    "            \"roc_auc\": roc_auc_score(y_test, y_proba)\n",
    "        }\n",
    "        mlflow.log_metrics(metrics)\n",
    "        mlflow.log_params(model.get_params())\n",
    "        mlflow.sklearn.log_model(model, f\"model_{name.replace(' ', '_')}\")\n",
    "\n",
    "        print(f\"  Accuracy: {metrics['accuracy']:.4f}\")\n",
    "        print(f\"  F1-Score: {metrics['f1_score']:.4f}\")\n",
    "        print(f\"  ROC AUC: {metrics['roc_auc']:.4f}\")\n",
    "\n",
    "print(\"\\n✅ Experimentación finalizada.\")"
   ]
  },
  {
   "cell_type": "code",
   "execution_count": null,
   "id": "ebcdce1d",
   "metadata": {},
   "outputs": [],
   "source": []
  },
  {
   "cell_type": "code",
   "execution_count": null,
   "id": "7a96cf5b",
   "metadata": {},
   "outputs": [],
   "source": []
  },
  {
   "cell_type": "code",
   "execution_count": null,
   "id": "f79a8df9",
   "metadata": {},
   "outputs": [],
   "source": []
  },
  {
   "cell_type": "code",
   "execution_count": null,
   "id": "ee006f15",
   "metadata": {},
   "outputs": [],
   "source": []
  },
  {
   "cell_type": "code",
   "execution_count": null,
   "id": "792b9eea",
   "metadata": {},
   "outputs": [],
   "source": []
  },
  {
   "cell_type": "code",
   "execution_count": null,
   "id": "594e1158",
   "metadata": {},
   "outputs": [],
   "source": []
  },
  {
   "cell_type": "code",
   "execution_count": null,
   "id": "8c634528",
   "metadata": {},
   "outputs": [],
   "source": []
  }
 ],
 "metadata": {
  "kernelspec": {
   "display_name": "base",
   "language": "python",
   "name": "python3"
  },
  "language_info": {
   "codemirror_mode": {
    "name": "ipython",
    "version": 3
   },
   "file_extension": ".py",
   "mimetype": "text/x-python",
   "name": "python",
   "nbconvert_exporter": "python",
   "pygments_lexer": "ipython3",
   "version": "3.12.4"
  }
 },
 "nbformat": 4,
 "nbformat_minor": 5
}
